{
 "cells": [
  {
   "cell_type": "code",
   "execution_count": null,
   "id": "a410171a",
   "metadata": {},
   "outputs": [],
   "source": []
  },
  {
   "cell_type": "code",
   "execution_count": 2,
   "id": "87560e94",
   "metadata": {},
   "outputs": [],
   "source": [
    "paragraph = \"\"\"\n",
    "The name 'Nepal' is first recorded in texts from the Vedic period of the Indian subcontinent, the era in ancient Nepal when Hinduism was founded,\n",
    "the predominant religion of the country. In the middle of the first millennium BC, Gautama Buddha, the founder of Buddhism, was born in Lumbini in \n",
    "southern Nepal. Parts of northern Nepal were intertwined with the culture of Tibet. The centrally located Kathmandu Valley is intertwined with the culture \n",
    "of Indo-Aryans, and was the seat of the prosperous Newar confederacy known as Nepal Mandala. The Himalayan branch of the ancient Silk Road was dominated by the valley's traders.\n",
    "The cosmopolitan region developed distinct traditional art and architecture. By the 18th century, the Gorkha Kingdom achieved the unification of Nepal. The Shah dynasty established\n",
    "the Kingdom of Nepal and later formed an alliance with the British Empire, under its Rana dynasty of premiers. The country was never colonised but served as a buffer state between Imperial \n",
    "China and British India. Parliamentary democracy was introduced in 1951 but was twice suspended by Nepalese monarchs, in 1960 and 2005. The Nepalese Civil War in the 1990s and early 2000s \n",
    "resulted in the establishment \n",
    "of a secular republic in 2008, ending the world's last Hindu monarchy.\"\n",
    "\n",
    "\"\"\""
   ]
  },
  {
   "cell_type": "code",
   "execution_count": 5,
   "id": "9f122807",
   "metadata": {},
   "outputs": [],
   "source": [
    "import nltk\n",
    "from nltk.stem import PorterStemmer\n",
    "from nltk.corpus import stopwords"
   ]
  },
  {
   "cell_type": "code",
   "execution_count": 28,
   "id": "329e8bd2",
   "metadata": {},
   "outputs": [
    {
     "name": "stderr",
     "output_type": "stream",
     "text": [
      "[nltk_data] Downloading package punkt to /home/nix-code/nltk_data...\n",
      "[nltk_data]   Package punkt is already up-to-date!\n"
     ]
    }
   ],
   "source": [
    "# tokenization- convert paragraph into sentences-words\n",
    "nltk.download('punkt')\n",
    "sentences=nltk.sent_tokenize(paragraph)"
   ]
  },
  {
   "cell_type": "code",
   "execution_count": 7,
   "id": "c79f1443",
   "metadata": {},
   "outputs": [
    {
     "data": {
      "text/plain": [
       "'amelior'"
      ]
     },
     "execution_count": 7,
     "metadata": {},
     "output_type": "execute_result"
    }
   ],
   "source": [
    "# stemming process\n",
    "stemmer = PorterStemmer()\n",
    "stemmer.stem('amelioration')"
   ]
  },
  {
   "cell_type": "code",
   "execution_count": 9,
   "id": "12689b28",
   "metadata": {},
   "outputs": [
    {
     "data": {
      "text/plain": [
       "'histori'"
      ]
     },
     "execution_count": 9,
     "metadata": {},
     "output_type": "execute_result"
    }
   ],
   "source": [
    "stemmer.stem('history')"
   ]
  },
  {
   "cell_type": "code",
   "execution_count": 20,
   "id": "76dd0c22",
   "metadata": {},
   "outputs": [
    {
     "name": "stderr",
     "output_type": "stream",
     "text": [
      "[nltk_data] Downloading package wordnet to /home/nix-code/nltk_data...\n",
      "[nltk_data]   Package wordnet is already up-to-date!\n",
      "[nltk_data] Downloading package omw-1.4 to /home/nix-code/nltk_data...\n"
     ]
    }
   ],
   "source": [
    "# Lemmatization\n",
    "nltk.download('wordnet')\n",
    "nltk.download('omw-1.4')\n",
    "from nltk.stem import WordNetLemmatizer\n",
    "lemmatizer = WordNetLemmatizer()\n"
   ]
  },
  {
   "cell_type": "code",
   "execution_count": 21,
   "id": "e34de53a",
   "metadata": {},
   "outputs": [
    {
     "data": {
      "text/plain": [
       "'go'"
      ]
     },
     "execution_count": 21,
     "metadata": {},
     "output_type": "execute_result"
    }
   ],
   "source": [
    "lemmatizer.lemmatize('goes')"
   ]
  },
  {
   "cell_type": "code",
   "execution_count": 25,
   "id": "eff2fbdc",
   "metadata": {},
   "outputs": [
    {
     "data": {
      "text/plain": [
       "'fighting'"
      ]
     },
     "execution_count": 25,
     "metadata": {},
     "output_type": "execute_result"
    }
   ],
   "source": [
    "lemmatizer.lemmatize('fighting')"
   ]
  },
  {
   "cell_type": "code",
   "execution_count": 32,
   "id": "a51d737d",
   "metadata": {},
   "outputs": [],
   "source": [
    "## clean the data\n",
    "\n",
    "import re\n",
    "corpus = []\n",
    "for i in range(len(sentences)):\n",
    "    # other than = ^\n",
    "    # other than a-z ot A-z replace all puntuations with space\n",
    "    review = re.sub('[^a-zA-Z]',' ',sentences[i])\n",
    "    review = review.lower()\n",
    "    corpus.append(review)"
   ]
  },
  {
   "cell_type": "code",
   "execution_count": 34,
   "id": "bac75cda",
   "metadata": {},
   "outputs": [
    {
     "data": {
      "text/plain": [
       "[' the name  nepal  is first recorded in texts from the vedic period of the indian subcontinent  the era in ancient nepal when hinduism was founded  the predominant religion of the country ',\n",
       " 'in the middle of the first millennium bc  gautama buddha  the founder of buddhism  was born in lumbini in  southern nepal ',\n",
       " 'parts of northern nepal were intertwined with the culture of tibet ',\n",
       " 'the centrally located kathmandu valley is intertwined with the culture  of indo aryans  and was the seat of the prosperous newar confederacy known as nepal mandala ',\n",
       " 'the himalayan branch of the ancient silk road was dominated by the valley s traders ',\n",
       " 'the cosmopolitan region developed distinct traditional art and architecture ',\n",
       " 'by the   th century  the gorkha kingdom achieved the unification of nepal ',\n",
       " 'the shah dynasty established the kingdom of nepal and later formed an alliance with the british empire  under its rana dynasty of premiers ',\n",
       " 'the country was never colonised but served as a buffer state between imperial  china and british india ',\n",
       " 'parliamentary democracy was introduced in      but was twice suspended by nepalese monarchs  in      and      ',\n",
       " 'the nepalese civil war in the     s and early     s  resulted in the establishment  of a secular republic in       ending the world s last hindu monarchy  ']"
      ]
     },
     "execution_count": 34,
     "metadata": {},
     "output_type": "execute_result"
    }
   ],
   "source": [
    "corpus"
   ]
  },
  {
   "cell_type": "code",
   "execution_count": 41,
   "id": "c17d8857",
   "metadata": {},
   "outputs": [
    {
     "name": "stdout",
     "output_type": "stream",
     "text": [
      "name\n",
      "nepal\n",
      "first\n",
      "record\n",
      "text\n",
      "vedic\n",
      "period\n",
      "indian\n",
      "subcontin\n",
      "era\n",
      "ancient\n",
      "nepal\n",
      "hinduism\n",
      "found\n",
      "predomin\n",
      "religion\n",
      "countri\n",
      "middl\n",
      "first\n",
      "millennium\n",
      "bc\n",
      "gautama\n",
      "buddha\n",
      "founder\n",
      "buddhism\n",
      "born\n",
      "lumbini\n",
      "southern\n",
      "nepal\n",
      "part\n",
      "northern\n",
      "nepal\n",
      "intertwin\n",
      "cultur\n",
      "tibet\n",
      "central\n",
      "locat\n",
      "kathmandu\n",
      "valley\n",
      "intertwin\n",
      "cultur\n",
      "indo\n",
      "aryan\n",
      "seat\n",
      "prosper\n",
      "newar\n",
      "confederaci\n",
      "known\n",
      "nepal\n",
      "mandala\n",
      "himalayan\n",
      "branch\n",
      "ancient\n",
      "silk\n",
      "road\n",
      "domin\n",
      "valley\n",
      "trader\n",
      "cosmopolitan\n",
      "region\n",
      "develop\n",
      "distinct\n",
      "tradit\n",
      "art\n",
      "architectur\n",
      "th\n",
      "centuri\n",
      "gorkha\n",
      "kingdom\n",
      "achiev\n",
      "unif\n",
      "nepal\n",
      "shah\n",
      "dynasti\n",
      "establish\n",
      "kingdom\n",
      "nepal\n",
      "later\n",
      "form\n",
      "allianc\n",
      "british\n",
      "empir\n",
      "rana\n",
      "dynasti\n",
      "premier\n",
      "countri\n",
      "never\n",
      "colonis\n",
      "serv\n",
      "buffer\n",
      "state\n",
      "imperi\n",
      "china\n",
      "british\n",
      "india\n",
      "parliamentari\n",
      "democraci\n",
      "introduc\n",
      "twice\n",
      "suspend\n",
      "nepales\n",
      "monarch\n",
      "nepales\n",
      "civil\n",
      "war\n",
      "earli\n",
      "result\n",
      "establish\n",
      "secular\n",
      "republ\n",
      "end\n",
      "world\n",
      "last\n",
      "hindu\n",
      "monarchi\n"
     ]
    },
    {
     "name": "stderr",
     "output_type": "stream",
     "text": [
      "[nltk_data] Downloading package stopwords to /home/nix-\n",
      "[nltk_data]     code/nltk_data...\n",
      "[nltk_data]   Package stopwords is already up-to-date!\n"
     ]
    }
   ],
   "source": [
    "nltk.download('stopwords')\n",
    "for i in corpus:\n",
    "    words = nltk.word_tokenize(i)\n",
    "    for word in words:\n",
    "        # print those words that are not in stop words\n",
    "        if word not in set(stopwords.words('english')):\n",
    "            print(stemmer.stem(word))\n",
    "        \n"
   ]
  },
  {
   "cell_type": "code",
   "execution_count": 44,
   "id": "994feda9",
   "metadata": {},
   "outputs": [
    {
     "name": "stdout",
     "output_type": "stream",
     "text": [
      "name\n",
      "nepal\n",
      "first\n",
      "recorded\n",
      "text\n",
      "vedic\n",
      "period\n",
      "indian\n",
      "subcontinent\n",
      "era\n",
      "ancient\n",
      "nepal\n",
      "hinduism\n",
      "founded\n",
      "predominant\n",
      "religion\n",
      "country\n",
      "middle\n",
      "first\n",
      "millennium\n",
      "bc\n",
      "gautama\n",
      "buddha\n",
      "founder\n",
      "buddhism\n",
      "born\n",
      "lumbini\n",
      "southern\n",
      "nepal\n",
      "part\n",
      "northern\n",
      "nepal\n",
      "intertwined\n",
      "culture\n",
      "tibet\n",
      "centrally\n",
      "located\n",
      "kathmandu\n",
      "valley\n",
      "intertwined\n",
      "culture\n",
      "indo\n",
      "aryan\n",
      "seat\n",
      "prosperous\n",
      "newar\n",
      "confederacy\n",
      "known\n",
      "nepal\n",
      "mandala\n",
      "himalayan\n",
      "branch\n",
      "ancient\n",
      "silk\n",
      "road\n",
      "dominated\n",
      "valley\n",
      "trader\n",
      "cosmopolitan\n",
      "region\n",
      "developed\n",
      "distinct\n",
      "traditional\n",
      "art\n",
      "architecture\n",
      "th\n",
      "century\n",
      "gorkha\n",
      "kingdom\n",
      "achieved\n",
      "unification\n",
      "nepal\n",
      "shah\n",
      "dynasty\n",
      "established\n",
      "kingdom\n",
      "nepal\n",
      "later\n",
      "formed\n",
      "alliance\n",
      "british\n",
      "empire\n",
      "rana\n",
      "dynasty\n",
      "premier\n",
      "country\n",
      "never\n",
      "colonised\n",
      "served\n",
      "buffer\n",
      "state\n",
      "imperial\n",
      "china\n",
      "british\n",
      "india\n",
      "parliamentary\n",
      "democracy\n",
      "introduced\n",
      "twice\n",
      "suspended\n",
      "nepalese\n",
      "monarch\n",
      "nepalese\n",
      "civil\n",
      "war\n",
      "early\n",
      "resulted\n",
      "establishment\n",
      "secular\n",
      "republic\n",
      "ending\n",
      "world\n",
      "last\n",
      "hindu\n",
      "monarchy\n"
     ]
    }
   ],
   "source": [
    "# lemmatization\n",
    "\n",
    "for i in corpus:\n",
    "    words = nltk.word_tokenize(i)\n",
    "    for word in words:\n",
    "        if word not in set(stopwords.words('english')):\n",
    "            print(lemmatizer.lemmatize(word))"
   ]
  },
  {
   "cell_type": "code",
   "execution_count": null,
   "id": "79d83f45",
   "metadata": {},
   "outputs": [],
   "source": []
  },
  {
   "cell_type": "code",
   "execution_count": 65,
   "id": "8a8e4d31",
   "metadata": {},
   "outputs": [],
   "source": [
    "## Bag of words\n",
    "from sklearn.feature_extraction.text import CountVectorizer\n",
    "cv = CountVectorizer(binary=True)\n"
   ]
  },
  {
   "cell_type": "code",
   "execution_count": 66,
   "id": "d3537476",
   "metadata": {},
   "outputs": [
    {
     "data": {
      "text/plain": [
       "{'the': 101,\n",
       " 'name': 70,\n",
       " 'nepal': 71,\n",
       " 'is': 56,\n",
       " 'first': 39,\n",
       " 'recorded': 84,\n",
       " 'in': 50,\n",
       " 'texts': 99,\n",
       " 'from': 43,\n",
       " 'vedic': 109,\n",
       " 'period': 79,\n",
       " 'of': 76,\n",
       " 'indian': 52,\n",
       " 'subcontinent': 97,\n",
       " 'era': 36,\n",
       " 'ancient': 3,\n",
       " 'when': 113,\n",
       " 'hinduism': 48,\n",
       " 'was': 111,\n",
       " 'founded': 41,\n",
       " 'predominant': 80,\n",
       " 'religion': 86,\n",
       " 'country': 26,\n",
       " 'middle': 66,\n",
       " 'millennium': 67,\n",
       " 'bc': 9,\n",
       " 'gautama': 44,\n",
       " 'buddha': 14,\n",
       " 'founder': 42,\n",
       " 'buddhism': 15,\n",
       " 'born': 11,\n",
       " 'lumbini': 64,\n",
       " 'southern': 95,\n",
       " 'parts': 78,\n",
       " 'northern': 75,\n",
       " 'were': 112,\n",
       " 'intertwined': 54,\n",
       " 'with': 114,\n",
       " 'culture': 27,\n",
       " 'tibet': 102,\n",
       " 'centrally': 19,\n",
       " 'located': 63,\n",
       " 'kathmandu': 58,\n",
       " 'valley': 108,\n",
       " 'indo': 53,\n",
       " 'aryans': 7,\n",
       " 'and': 4,\n",
       " 'seat': 90,\n",
       " 'prosperous': 82,\n",
       " 'newar': 74,\n",
       " 'confederacy': 24,\n",
       " 'known': 60,\n",
       " 'as': 8,\n",
       " 'mandala': 65,\n",
       " 'himalayan': 46,\n",
       " 'branch': 12,\n",
       " 'silk': 94,\n",
       " 'road': 89,\n",
       " 'dominated': 31,\n",
       " 'by': 18,\n",
       " 'traders': 103,\n",
       " 'cosmopolitan': 25,\n",
       " 'region': 85,\n",
       " 'developed': 29,\n",
       " 'distinct': 30,\n",
       " 'traditional': 104,\n",
       " 'art': 6,\n",
       " 'architecture': 5,\n",
       " 'th': 100,\n",
       " 'century': 20,\n",
       " 'gorkha': 45,\n",
       " 'kingdom': 59,\n",
       " 'achieved': 0,\n",
       " 'unification': 107,\n",
       " 'shah': 93,\n",
       " 'dynasty': 32,\n",
       " 'established': 37,\n",
       " 'later': 62,\n",
       " 'formed': 40,\n",
       " 'an': 2,\n",
       " 'alliance': 1,\n",
       " 'british': 13,\n",
       " 'empire': 34,\n",
       " 'under': 106,\n",
       " 'its': 57,\n",
       " 'rana': 83,\n",
       " 'premiers': 81,\n",
       " 'never': 73,\n",
       " 'colonised': 23,\n",
       " 'but': 17,\n",
       " 'served': 92,\n",
       " 'buffer': 16,\n",
       " 'state': 96,\n",
       " 'between': 10,\n",
       " 'imperial': 49,\n",
       " 'china': 21,\n",
       " 'india': 51,\n",
       " 'parliamentary': 77,\n",
       " 'democracy': 28,\n",
       " 'introduced': 55,\n",
       " 'twice': 105,\n",
       " 'suspended': 98,\n",
       " 'nepalese': 72,\n",
       " 'monarchs': 68,\n",
       " 'civil': 22,\n",
       " 'war': 110,\n",
       " 'early': 33,\n",
       " 'resulted': 88,\n",
       " 'establishment': 38,\n",
       " 'secular': 91,\n",
       " 'republic': 87,\n",
       " 'ending': 35,\n",
       " 'world': 115,\n",
       " 'last': 61,\n",
       " 'hindu': 47,\n",
       " 'monarchy': 69}"
      ]
     },
     "execution_count": 66,
     "metadata": {},
     "output_type": "execute_result"
    }
   ],
   "source": [
    "X=cv.fit_transform(corpus)\n",
    "cv.vocabulary_"
   ]
  },
  {
   "cell_type": "code",
   "execution_count": 57,
   "id": "04e7ff8e",
   "metadata": {},
   "outputs": [
    {
     "data": {
      "text/plain": [
       "' the name  nepal  is first recorded in texts from the vedic period of the indian subcontinent  the era in ancient nepal when hinduism was founded  the predominant religion of the country '"
      ]
     },
     "execution_count": 57,
     "metadata": {},
     "output_type": "execute_result"
    }
   ],
   "source": [
    "corpus[0]"
   ]
  },
  {
   "cell_type": "code",
   "execution_count": 67,
   "id": "daa56728",
   "metadata": {},
   "outputs": [
    {
     "data": {
      "text/plain": [
       "array([[0, 0, 0, 1, 0, 0, 0, 0, 0, 0, 0, 0, 0, 0, 0, 0, 0, 0, 0, 0, 0, 0,\n",
       "        0, 0, 0, 0, 1, 0, 0, 0, 0, 0, 0, 0, 0, 0, 1, 0, 0, 1, 0, 1, 0, 1,\n",
       "        0, 0, 0, 0, 1, 0, 1, 0, 1, 0, 0, 0, 1, 0, 0, 0, 0, 0, 0, 0, 0, 0,\n",
       "        0, 0, 0, 0, 1, 1, 0, 0, 0, 0, 1, 0, 0, 1, 1, 0, 0, 0, 1, 0, 1, 0,\n",
       "        0, 0, 0, 0, 0, 0, 0, 0, 0, 1, 0, 1, 0, 1, 0, 0, 0, 0, 0, 0, 0, 1,\n",
       "        0, 1, 0, 1, 0, 0]])"
      ]
     },
     "execution_count": 67,
     "metadata": {},
     "output_type": "execute_result"
    }
   ],
   "source": [
    "X[0].toarray()"
   ]
  }
 ],
 "metadata": {
  "kernelspec": {
   "display_name": "Python 3 (ipykernel)",
   "language": "python",
   "name": "python3"
  },
  "language_info": {
   "codemirror_mode": {
    "name": "ipython",
    "version": 3
   },
   "file_extension": ".py",
   "mimetype": "text/x-python",
   "name": "python",
   "nbconvert_exporter": "python",
   "pygments_lexer": "ipython3",
   "version": "3.10.6"
  }
 },
 "nbformat": 4,
 "nbformat_minor": 5
}
