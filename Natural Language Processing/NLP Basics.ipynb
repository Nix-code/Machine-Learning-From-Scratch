{
 "cells": [
  {
   "cell_type": "code",
   "execution_count": null,
   "id": "be361cfe",
   "metadata": {},
   "outputs": [],
   "source": []
  },
  {
   "cell_type": "code",
   "execution_count": 2,
   "id": "c36706bb",
   "metadata": {},
   "outputs": [],
   "source": [
    "paragraph = \"\"\"\n",
    "The name 'Nepal' is first recorded in texts from the Vedic period of the Indian subcontinent, the era in ancient Nepal when Hinduism was founded,\n",
    "the predominant religion of the country. In the middle of the first millennium BC, Gautama Buddha, the founder of Buddhism, was born in Lumbini in \n",
    "southern Nepal. Parts of northern Nepal were intertwined with the culture of Tibet. The centrally located Kathmandu Valley is intertwined with the culture \n",
    "of Indo-Aryans, and was the seat of the prosperous Newar confederacy known as Nepal Mandala. The Himalayan branch of the ancient Silk Road was dominated by the valley's traders.\n",
    "The cosmopolitan region developed distinct traditional art and architecture. By the 18th century, the Gorkha Kingdom achieved the unification of Nepal. The Shah dynasty established\n",
    "the Kingdom of Nepal and later formed an alliance with the British Empire, under its Rana dynasty of premiers. The country was never colonised but served as a buffer state between Imperial \n",
    "China and British India. Parliamentary democracy was introduced in 1951 but was twice suspended by Nepalese monarchs, in 1960 and 2005. The Nepalese Civil War in the 1990s and early 2000s \n",
    "resulted in the establishment \n",
    "of a secular republic in 2008, ending the world's last Hindu monarchy.\"\n",
    "\n",
    "\"\"\""
   ]
  },
  {
   "cell_type": "code",
   "execution_count": 5,
   "id": "c6337020",
   "metadata": {},
   "outputs": [],
   "source": [
    "import nltk\n",
    "from nltk.stem import PorterStemmer\n",
    "from nltk.corpus import stopwords"
   ]
  },
  {
   "cell_type": "code",
   "execution_count": 28,
   "id": "c7a84d09",
   "metadata": {},
   "outputs": [
    {
     "name": "stderr",
     "output_type": "stream",
     "text": [
      "[nltk_data] Downloading package punkt to /home/nix-code/nltk_data...\n",
      "[nltk_data]   Package punkt is already up-to-date!\n"
     ]
    }
   ],
   "source": [
    "# tokenization- convert paragraph into sentences-words\n",
    "nltk.download('punkt')\n",
    "sentences=nltk.sent_tokenize(paragraph)"
   ]
  },
  {
   "cell_type": "code",
   "execution_count": 7,
   "id": "e03d74a4",
   "metadata": {},
   "outputs": [
    {
     "data": {
      "text/plain": [
       "'amelior'"
      ]
     },
     "execution_count": 7,
     "metadata": {},
     "output_type": "execute_result"
    }
   ],
   "source": [
    "# stemming process\n",
    "stemmer = PorterStemmer()\n",
    "stemmer.stem('amelioration')"
   ]
  },
  {
   "cell_type": "code",
   "execution_count": 9,
   "id": "cc0625df",
   "metadata": {},
   "outputs": [
    {
     "data": {
      "text/plain": [
       "'histori'"
      ]
     },
     "execution_count": 9,
     "metadata": {},
     "output_type": "execute_result"
    }
   ],
   "source": [
    "stemmer.stem('history')"
   ]
  },
  {
   "cell_type": "code",
   "execution_count": 20,
   "id": "33f3d58b",
   "metadata": {},
   "outputs": [
    {
     "name": "stderr",
     "output_type": "stream",
     "text": [
      "[nltk_data] Downloading package wordnet to /home/nix-code/nltk_data...\n",
      "[nltk_data]   Package wordnet is already up-to-date!\n",
      "[nltk_data] Downloading package omw-1.4 to /home/nix-code/nltk_data...\n"
     ]
    }
   ],
   "source": [
    "# Lemmatization\n",
    "nltk.download('wordnet')\n",
    "nltk.download('omw-1.4')\n",
    "from nltk.stem import WordNetLemmatizer\n",
    "lemmatizer = WordNetLemmatizer()\n"
   ]
  },
  {
   "cell_type": "code",
   "execution_count": 21,
   "id": "6af44798",
   "metadata": {},
   "outputs": [
    {
     "data": {
      "text/plain": [
       "'go'"
      ]
     },
     "execution_count": 21,
     "metadata": {},
     "output_type": "execute_result"
    }
   ],
   "source": [
    "lemmatizer.lemmatize('goes')"
   ]
  },
  {
   "cell_type": "code",
   "execution_count": 25,
   "id": "5d9709bb",
   "metadata": {},
   "outputs": [
    {
     "data": {
      "text/plain": [
       "'fighting'"
      ]
     },
     "execution_count": 25,
     "metadata": {},
     "output_type": "execute_result"
    }
   ],
   "source": [
    "lemmatizer.lemmatize('fighting')"
   ]
  },
  {
   "cell_type": "code",
   "execution_count": 32,
   "id": "5c20ac20",
   "metadata": {},
   "outputs": [],
   "source": [
    "## clean the data\n",
    "\n",
    "import re\n",
    "corpus = []\n",
    "for i in range(len(sentences)):\n",
    "    # other than = ^\n",
    "    # other than a-z ot A-z replace all puntuations with space\n",
    "    review = re.sub('[^a-zA-Z]',' ',sentences[i])\n",
    "    review = review.lower()\n",
    "    corpus.append(review)"
   ]
  },
  {
   "cell_type": "code",
   "execution_count": 34,
   "id": "b9419695",
   "metadata": {},
   "outputs": [
    {
     "data": {
      "text/plain": [
       "[' the name  nepal  is first recorded in texts from the vedic period of the indian subcontinent  the era in ancient nepal when hinduism was founded  the predominant religion of the country ',\n",
       " 'in the middle of the first millennium bc  gautama buddha  the founder of buddhism  was born in lumbini in  southern nepal ',\n",
       " 'parts of northern nepal were intertwined with the culture of tibet ',\n",
       " 'the centrally located kathmandu valley is intertwined with the culture  of indo aryans  and was the seat of the prosperous newar confederacy known as nepal mandala ',\n",
       " 'the himalayan branch of the ancient silk road was dominated by the valley s traders ',\n",
       " 'the cosmopolitan region developed distinct traditional art and architecture ',\n",
       " 'by the   th century  the gorkha kingdom achieved the unification of nepal ',\n",
       " 'the shah dynasty established the kingdom of nepal and later formed an alliance with the british empire  under its rana dynasty of premiers ',\n",
       " 'the country was never colonised but served as a buffer state between imperial  china and british india ',\n",
       " 'parliamentary democracy was introduced in      but was twice suspended by nepalese monarchs  in      and      ',\n",
       " 'the nepalese civil war in the     s and early     s  resulted in the establishment  of a secular republic in       ending the world s last hindu monarchy  ']"
      ]
     },
     "execution_count": 34,
     "metadata": {},
     "output_type": "execute_result"
    }
   ],
   "source": [
    "corpus"
   ]
  },
  {
   "cell_type": "code",
   "execution_count": 41,
   "id": "2655eda5",
   "metadata": {},
   "outputs": [
    {
     "name": "stdout",
     "output_type": "stream",
     "text": [
      "name\n",
      "nepal\n",
      "first\n",
      "record\n",
      "text\n",
      "vedic\n",
      "period\n",
      "indian\n",
      "subcontin\n",
      "era\n",
      "ancient\n",
      "nepal\n",
      "hinduism\n",
      "found\n",
      "predomin\n",
      "religion\n",
      "countri\n",
      "middl\n",
      "first\n",
      "millennium\n",
      "bc\n",
      "gautama\n",
      "buddha\n",
      "founder\n",
      "buddhism\n",
      "born\n",
      "lumbini\n",
      "southern\n",
      "nepal\n",
      "part\n",
      "northern\n",
      "nepal\n",
      "intertwin\n",
      "cultur\n",
      "tibet\n",
      "central\n",
      "locat\n",
      "kathmandu\n",
      "valley\n",
      "intertwin\n",
      "cultur\n",
      "indo\n",
      "aryan\n",
      "seat\n",
      "prosper\n",
      "newar\n",
      "confederaci\n",
      "known\n",
      "nepal\n",
      "mandala\n",
      "himalayan\n",
      "branch\n",
      "ancient\n",
      "silk\n",
      "road\n",
      "domin\n",
      "valley\n",
      "trader\n",
      "cosmopolitan\n",
      "region\n",
      "develop\n",
      "distinct\n",
      "tradit\n",
      "art\n",
      "architectur\n",
      "th\n",
      "centuri\n",
      "gorkha\n",
      "kingdom\n",
      "achiev\n",
      "unif\n",
      "nepal\n",
      "shah\n",
      "dynasti\n",
      "establish\n",
      "kingdom\n",
      "nepal\n",
      "later\n",
      "form\n",
      "allianc\n",
      "british\n",
      "empir\n",
      "rana\n",
      "dynasti\n",
      "premier\n",
      "countri\n",
      "never\n",
      "colonis\n",
      "serv\n",
      "buffer\n",
      "state\n",
      "imperi\n",
      "china\n",
      "british\n",
      "india\n",
      "parliamentari\n",
      "democraci\n",
      "introduc\n",
      "twice\n",
      "suspend\n",
      "nepales\n",
      "monarch\n",
      "nepales\n",
      "civil\n",
      "war\n",
      "earli\n",
      "result\n",
      "establish\n",
      "secular\n",
      "republ\n",
      "end\n",
      "world\n",
      "last\n",
      "hindu\n",
      "monarchi\n"
     ]
    },
    {
     "name": "stderr",
     "output_type": "stream",
     "text": [
      "[nltk_data] Downloading package stopwords to /home/nix-\n",
      "[nltk_data]     code/nltk_data...\n",
      "[nltk_data]   Package stopwords is already up-to-date!\n"
     ]
    }
   ],
   "source": [
    "nltk.download('stopwords')\n",
    "for i in corpus:\n",
    "    words = nltk.word_tokenize(i)\n",
    "    for word in words:\n",
    "        # print those words that are not in stop words\n",
    "        if word not in set(stopwords.words('english')):\n",
    "            print(stemmer.stem(word))\n",
    "        \n"
   ]
  },
  {
   "cell_type": "code",
   "execution_count": 44,
   "id": "21a3d1cc",
   "metadata": {},
   "outputs": [
    {
     "name": "stdout",
     "output_type": "stream",
     "text": [
      "name\n",
      "nepal\n",
      "first\n",
      "recorded\n",
      "text\n",
      "vedic\n",
      "period\n",
      "indian\n",
      "subcontinent\n",
      "era\n",
      "ancient\n",
      "nepal\n",
      "hinduism\n",
      "founded\n",
      "predominant\n",
      "religion\n",
      "country\n",
      "middle\n",
      "first\n",
      "millennium\n",
      "bc\n",
      "gautama\n",
      "buddha\n",
      "founder\n",
      "buddhism\n",
      "born\n",
      "lumbini\n",
      "southern\n",
      "nepal\n",
      "part\n",
      "northern\n",
      "nepal\n",
      "intertwined\n",
      "culture\n",
      "tibet\n",
      "centrally\n",
      "located\n",
      "kathmandu\n",
      "valley\n",
      "intertwined\n",
      "culture\n",
      "indo\n",
      "aryan\n",
      "seat\n",
      "prosperous\n",
      "newar\n",
      "confederacy\n",
      "known\n",
      "nepal\n",
      "mandala\n",
      "himalayan\n",
      "branch\n",
      "ancient\n",
      "silk\n",
      "road\n",
      "dominated\n",
      "valley\n",
      "trader\n",
      "cosmopolitan\n",
      "region\n",
      "developed\n",
      "distinct\n",
      "traditional\n",
      "art\n",
      "architecture\n",
      "th\n",
      "century\n",
      "gorkha\n",
      "kingdom\n",
      "achieved\n",
      "unification\n",
      "nepal\n",
      "shah\n",
      "dynasty\n",
      "established\n",
      "kingdom\n",
      "nepal\n",
      "later\n",
      "formed\n",
      "alliance\n",
      "british\n",
      "empire\n",
      "rana\n",
      "dynasty\n",
      "premier\n",
      "country\n",
      "never\n",
      "colonised\n",
      "served\n",
      "buffer\n",
      "state\n",
      "imperial\n",
      "china\n",
      "british\n",
      "india\n",
      "parliamentary\n",
      "democracy\n",
      "introduced\n",
      "twice\n",
      "suspended\n",
      "nepalese\n",
      "monarch\n",
      "nepalese\n",
      "civil\n",
      "war\n",
      "early\n",
      "resulted\n",
      "establishment\n",
      "secular\n",
      "republic\n",
      "ending\n",
      "world\n",
      "last\n",
      "hindu\n",
      "monarchy\n"
     ]
    }
   ],
   "source": [
    "# lemmatization\n",
    "\n",
    "for i in corpus:\n",
    "    words = nltk.word_tokenize(i)\n",
    "    for word in words:\n",
    "        if word not in set(stopwords.words('english')):\n",
    "            print(lemmatizer.lemmatize(word))"
   ]
  },
  {
   "cell_type": "code",
   "execution_count": 69,
   "id": "009c527a",
   "metadata": {},
   "outputs": [],
   "source": [
    "## clean the data\n",
    "\n",
    "import re\n",
    "corpus = []\n",
    "for i in range(len(sentences)):\n",
    "    # other than = ^\n",
    "    # other than a-z ot A-z replace all puntuations with space\n",
    "    review = re.sub('[^a-zA-Z]',' ',sentences[i])\n",
    "    review = review.lower()\n",
    "    review = review.split()\n",
    "    review = [lemmatizer.lemmatize(word) for word in words if word not in set(stopwords.words('english'))]\n",
    "    review = ' '.join(review)\n",
    "    corpus.append(review)"
   ]
  },
  {
   "cell_type": "code",
   "execution_count": 70,
   "id": "3c1f5fe1",
   "metadata": {},
   "outputs": [],
   "source": [
    "## Bag of words\n",
    "from sklearn.feature_extraction.text import CountVectorizer\n",
    "cv = CountVectorizer(binary=True, ngram_range=(3,3))\n"
   ]
  },
  {
   "cell_type": "code",
   "execution_count": 71,
   "id": "a0393c73",
   "metadata": {},
   "outputs": [
    {
     "data": {
      "text/plain": [
       "{'nepalese civil war': 5,\n",
       " 'civil war early': 0,\n",
       " 'war early resulted': 9,\n",
       " 'early resulted establishment': 1,\n",
       " 'resulted establishment secular': 7,\n",
       " 'establishment secular republic': 3,\n",
       " 'secular republic ending': 8,\n",
       " 'republic ending world': 6,\n",
       " 'ending world last': 2,\n",
       " 'world last hindu': 10,\n",
       " 'last hindu monarchy': 4}"
      ]
     },
     "execution_count": 71,
     "metadata": {},
     "output_type": "execute_result"
    }
   ],
   "source": [
    "X=cv.fit_transform(corpus)\n",
    "cv.vocabulary_"
   ]
  },
  {
   "cell_type": "code",
   "execution_count": 72,
   "id": "23790d70",
   "metadata": {},
   "outputs": [
    {
     "data": {
      "text/plain": [
       "'nepalese civil war early resulted establishment secular republic ending world last hindu monarchy'"
      ]
     },
     "execution_count": 72,
     "metadata": {},
     "output_type": "execute_result"
    }
   ],
   "source": [
    "corpus[0]"
   ]
  },
  {
   "cell_type": "code",
   "execution_count": 75,
   "id": "7050cc5d",
   "metadata": {},
   "outputs": [
    {
     "data": {
      "text/plain": [
       "array([[1, 1, 1, 1, 1, 1, 1, 1, 1, 1, 1]])"
      ]
     },
     "execution_count": 75,
     "metadata": {},
     "output_type": "execute_result"
    }
   ],
   "source": [
    "X[0].toarray()"
   ]
  },
  {
   "cell_type": "code",
   "execution_count": 78,
   "id": "5b3d8164",
   "metadata": {},
   "outputs": [
    {
     "data": {
      "text/plain": [
       "array([[0.2773501, 0.2773501, 0.2773501, 0.2773501, 0.2773501, 0.2773501,\n",
       "        0.2773501, 0.2773501, 0.2773501, 0.2773501, 0.2773501, 0.2773501,\n",
       "        0.2773501]])"
      ]
     },
     "execution_count": 78,
     "metadata": {},
     "output_type": "execute_result"
    }
   ],
   "source": [
    "# let's define tfidf\n",
    "\n",
    "from sklearn.feature_extraction.text import TfidfVectorizer\n",
    "cv = TfidfVectorizer()\n",
    "X_ = cv.fit_transform(corpus)\n",
    "X_[0].toarray()\n",
    "# now it will give some weights to words"
   ]
  }
 ],
 "metadata": {
  "kernelspec": {
   "display_name": "Python 3 (ipykernel)",
   "language": "python",
   "name": "python3"
  },
  "language_info": {
   "codemirror_mode": {
    "name": "ipython",
    "version": 3
   },
   "file_extension": ".py",
   "mimetype": "text/x-python",
   "name": "python",
   "nbconvert_exporter": "python",
   "pygments_lexer": "ipython3",
   "version": "3.10.6"
  }
 },
 "nbformat": 4,
 "nbformat_minor": 5
}
