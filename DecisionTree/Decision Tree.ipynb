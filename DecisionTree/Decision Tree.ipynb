{
 "cells": [
  {
   "cell_type": "markdown",
   "id": "f5003d7c",
   "metadata": {},
   "source": [
    "### Entropy"
   ]
  },
  {
   "cell_type": "code",
   "execution_count": 102,
   "id": "ffa8a2c6",
   "metadata": {},
   "outputs": [],
   "source": [
    "import numpy as np\n",
    "import pandas as pd"
   ]
  },
  {
   "cell_type": "code",
   "execution_count": 103,
   "id": "f3312ab3",
   "metadata": {},
   "outputs": [],
   "source": [
    "df = pd.read_csv('data.csv')\n",
    "cols_to_drop = ['PassengerId', 'Name', 'Ticket', 'Cabin', 'Embarked']\n",
    "clean_data = df.drop(cols_to_drop, axis=1)\n",
    "from sklearn.preprocessing import LabelEncoder\n",
    "le = LabelEncoder()\n",
    "clean_data[\"Sex\"] = le.fit_transform(clean_data[\"Sex\"])\n",
    "clean_data = clean_data.fillna(clean_data['Age'].mean())"
   ]
  },
  {
   "cell_type": "code",
   "execution_count": 104,
   "id": "50d6fa4f",
   "metadata": {},
   "outputs": [
    {
     "data": {
      "text/html": [
       "<div>\n",
       "<style scoped>\n",
       "    .dataframe tbody tr th:only-of-type {\n",
       "        vertical-align: middle;\n",
       "    }\n",
       "\n",
       "    .dataframe tbody tr th {\n",
       "        vertical-align: top;\n",
       "    }\n",
       "\n",
       "    .dataframe thead th {\n",
       "        text-align: right;\n",
       "    }\n",
       "</style>\n",
       "<table border=\"1\" class=\"dataframe\">\n",
       "  <thead>\n",
       "    <tr style=\"text-align: right;\">\n",
       "      <th></th>\n",
       "      <th>Survived</th>\n",
       "      <th>Pclass</th>\n",
       "      <th>Sex</th>\n",
       "      <th>Age</th>\n",
       "      <th>SibSp</th>\n",
       "      <th>Parch</th>\n",
       "      <th>Fare</th>\n",
       "    </tr>\n",
       "  </thead>\n",
       "  <tbody>\n",
       "    <tr>\n",
       "      <th>0</th>\n",
       "      <td>0</td>\n",
       "      <td>3</td>\n",
       "      <td>1</td>\n",
       "      <td>22.0</td>\n",
       "      <td>1</td>\n",
       "      <td>0</td>\n",
       "      <td>7.2500</td>\n",
       "    </tr>\n",
       "    <tr>\n",
       "      <th>1</th>\n",
       "      <td>1</td>\n",
       "      <td>1</td>\n",
       "      <td>0</td>\n",
       "      <td>38.0</td>\n",
       "      <td>1</td>\n",
       "      <td>0</td>\n",
       "      <td>71.2833</td>\n",
       "    </tr>\n",
       "    <tr>\n",
       "      <th>2</th>\n",
       "      <td>1</td>\n",
       "      <td>3</td>\n",
       "      <td>0</td>\n",
       "      <td>26.0</td>\n",
       "      <td>0</td>\n",
       "      <td>0</td>\n",
       "      <td>7.9250</td>\n",
       "    </tr>\n",
       "    <tr>\n",
       "      <th>3</th>\n",
       "      <td>1</td>\n",
       "      <td>1</td>\n",
       "      <td>0</td>\n",
       "      <td>35.0</td>\n",
       "      <td>1</td>\n",
       "      <td>0</td>\n",
       "      <td>53.1000</td>\n",
       "    </tr>\n",
       "    <tr>\n",
       "      <th>4</th>\n",
       "      <td>0</td>\n",
       "      <td>3</td>\n",
       "      <td>1</td>\n",
       "      <td>35.0</td>\n",
       "      <td>0</td>\n",
       "      <td>0</td>\n",
       "      <td>8.0500</td>\n",
       "    </tr>\n",
       "  </tbody>\n",
       "</table>\n",
       "</div>"
      ],
      "text/plain": [
       "   Survived  Pclass  Sex   Age  SibSp  Parch     Fare\n",
       "0         0       3    1  22.0      1      0   7.2500\n",
       "1         1       1    0  38.0      1      0  71.2833\n",
       "2         1       3    0  26.0      0      0   7.9250\n",
       "3         1       1    0  35.0      1      0  53.1000\n",
       "4         0       3    1  35.0      0      0   8.0500"
      ]
     },
     "execution_count": 104,
     "metadata": {},
     "output_type": "execute_result"
    }
   ],
   "source": [
    "clean_data.head()"
   ]
  },
  {
   "cell_type": "code",
   "execution_count": 105,
   "id": "b9f16be0",
   "metadata": {},
   "outputs": [],
   "source": [
    "y = df.Survived\n",
    "X = df.drop(['Survived'],axis=1)"
   ]
  },
  {
   "cell_type": "code",
   "execution_count": 106,
   "id": "1d5d4efd",
   "metadata": {},
   "outputs": [],
   "source": [
    "X = X.drop(['PassengerId','Name','Ticket','Cabin'],axis=1)"
   ]
  },
  {
   "cell_type": "code",
   "execution_count": 107,
   "id": "a5d9e94a",
   "metadata": {},
   "outputs": [],
   "source": [
    "X[\"Age\"] = X[\"Age\"].fillna(X[\"Age\"].mean())"
   ]
  },
  {
   "cell_type": "code",
   "execution_count": 108,
   "id": "edda4b06",
   "metadata": {},
   "outputs": [],
   "source": [
    "X = X.dropna(axis=1)"
   ]
  },
  {
   "cell_type": "code",
   "execution_count": 109,
   "id": "c0632cb2",
   "metadata": {},
   "outputs": [
    {
     "data": {
      "text/plain": [
       "Pclass    0\n",
       "Sex       0\n",
       "Age       0\n",
       "SibSp     0\n",
       "Parch     0\n",
       "Fare      0\n",
       "dtype: int64"
      ]
     },
     "execution_count": 109,
     "metadata": {},
     "output_type": "execute_result"
    }
   ],
   "source": [
    "X.isna().sum()"
   ]
  },
  {
   "cell_type": "code",
   "execution_count": null,
   "id": "bdddd58d",
   "metadata": {},
   "outputs": [],
   "source": []
  },
  {
   "cell_type": "code",
   "execution_count": null,
   "id": "2b064442",
   "metadata": {},
   "outputs": [],
   "source": []
  },
  {
   "cell_type": "code",
   "execution_count": null,
   "id": "15895aa4",
   "metadata": {},
   "outputs": [],
   "source": []
  },
  {
   "cell_type": "code",
   "execution_count": 110,
   "id": "91a6b725",
   "metadata": {},
   "outputs": [],
   "source": [
    "def entropy(col):\n",
    "    data, counts = np.unique(col, return_counts=True)\n",
    "    # total items are also needed to find the probability\n",
    "    \n",
    "    N = float(col.shape[0])\n",
    "    ent = 0.0\n",
    "    \n",
    "    for count in counts:\n",
    "        p = count / N\n",
    "        ent += p * np.log2(p)\n",
    "        \n",
    "    return -ent        "
   ]
  },
  {
   "cell_type": "code",
   "execution_count": 111,
   "id": "9ec7c146",
   "metadata": {},
   "outputs": [],
   "source": [
    "col = np.array([1,1,2,3,4,3,3,2,2,2,1,4,4,5,5])"
   ]
  },
  {
   "cell_type": "code",
   "execution_count": 112,
   "id": "c96e49ed",
   "metadata": {},
   "outputs": [
    {
     "data": {
      "text/plain": [
       "2.2892464285091583"
      ]
     },
     "execution_count": 112,
     "metadata": {},
     "output_type": "execute_result"
    }
   ],
   "source": [
    "entropy(col)"
   ]
  },
  {
   "cell_type": "markdown",
   "id": "4c1a7b6c",
   "metadata": {},
   "source": [
    "### Information Gain"
   ]
  },
  {
   "cell_type": "code",
   "execution_count": 113,
   "id": "6c76fa35",
   "metadata": {},
   "outputs": [],
   "source": [
    "def divide_data(x_data, fkey, fval):\n",
    "    x_right = pd.DataFrame([], columns = x_data.columns)\n",
    "    x_left = pd.DataFrame([], columns = x_data.columns)\n",
    "    \n",
    "    for xi in range(x_data.shape[0]):\n",
    "        val = x_data[fkey].iloc[xi]\n",
    "          \n",
    "        if val > fval:\n",
    "            x_right = pd.concat([x_right, x_data.loc[xi]], axis=0)\n",
    "        else:\n",
    "            x_left = pd.concat([x_left, x_data.loc[xi]], axis=0)\n",
    "    return x_left, x_right"
   ]
  },
  {
   "cell_type": "code",
   "execution_count": 114,
   "id": "3e2f6715",
   "metadata": {},
   "outputs": [],
   "source": [
    "def information_gain(x_data, fkey, fval):\n",
    "        \n",
    "    left, right = divide_data(x_data, fkey, fval)\n",
    "    # % of example in left and right\n",
    "    \n",
    "    l = float(left.shape[0])/x_data.shape[0]\n",
    "    r = float(right.shape[0])/x_data.shape[0]\n",
    "    \n",
    "    hs = entropy(x_data.Survived)\n",
    "    \n",
    "    igain = hs-(l*entropy(left.Survived)+r*entropy(right.Survived))\n",
    "    return igain\n",
    "\n",
    "    \n",
    "        "
   ]
  },
  {
   "cell_type": "code",
   "execution_count": 115,
   "id": "668b7e3d",
   "metadata": {},
   "outputs": [
    {
     "name": "stdout",
     "output_type": "stream",
     "text": [
      "Pclass\n",
      "-80.33851066136094\n",
      "Sex\n",
      "-80.73231540043619\n",
      "Age\n",
      "-80.62905556399454\n",
      "SibSp\n",
      "-80.97332141926931\n",
      "Parch\n",
      "-81.73146502368775\n",
      "Fare\n",
      "-81.75785215043047\n"
     ]
    }
   ],
   "source": [
    "for f in X.columns:\n",
    "    print(f)\n",
    "    print(information_gain(clean_data, f, clean_data[f].mean()))"
   ]
  },
  {
   "cell_type": "code",
   "execution_count": null,
   "id": "1f130a4d",
   "metadata": {},
   "outputs": [],
   "source": []
  },
  {
   "cell_type": "code",
   "execution_count": null,
   "id": "6a2ad182",
   "metadata": {},
   "outputs": [],
   "source": []
  },
  {
   "cell_type": "code",
   "execution_count": null,
   "id": "58c86c29",
   "metadata": {},
   "outputs": [],
   "source": []
  }
 ],
 "metadata": {
  "kernelspec": {
   "display_name": "Python 3 (ipykernel)",
   "language": "python",
   "name": "python3"
  },
  "language_info": {
   "codemirror_mode": {
    "name": "ipython",
    "version": 3
   },
   "file_extension": ".py",
   "mimetype": "text/x-python",
   "name": "python",
   "nbconvert_exporter": "python",
   "pygments_lexer": "ipython3",
   "version": "3.10.6"
  }
 },
 "nbformat": 4,
 "nbformat_minor": 5
}
