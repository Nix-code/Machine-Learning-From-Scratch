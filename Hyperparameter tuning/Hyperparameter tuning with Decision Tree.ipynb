{
 "cells": [
  {
   "cell_type": "code",
   "execution_count": 1,
   "id": "a66a7895",
   "metadata": {},
   "outputs": [],
   "source": [
    "import pandas as pd\n",
    "import numpy as np\n",
    "import matplotlib.pyplot as plt"
   ]
  },
  {
   "cell_type": "code",
   "execution_count": 4,
   "id": "2ee33a78",
   "metadata": {},
   "outputs": [],
   "source": [
    "from sklearn.datasets import load_boston\n",
    "df = load_boston()\n"
   ]
  },
  {
   "cell_type": "code",
   "execution_count": 10,
   "id": "d7e74dc5",
   "metadata": {},
   "outputs": [],
   "source": [
    "X = pd.DataFrame(df.data, columns = df.feature_names)\n",
    "y = df.target"
   ]
  },
  {
   "cell_type": "code",
   "execution_count": 11,
   "id": "bf043ff1",
   "metadata": {},
   "outputs": [],
   "source": [
    "# train_test split\n",
    "from sklearn.model_selection import train_test_split\n",
    "\n",
    "X_train, X_test, y_train, y_test = train_test_split(X, y, test_size=0.33, random_state=42)"
   ]
  },
  {
   "cell_type": "code",
   "execution_count": 12,
   "id": "50d01213",
   "metadata": {},
   "outputs": [],
   "source": [
    "from sklearn.tree import DecisionTreeRegressor\n",
    "regressor = DecisionTreeRegressor()"
   ]
  },
  {
   "cell_type": "code",
   "execution_count": 13,
   "id": "1cab7c40",
   "metadata": {},
   "outputs": [
    {
     "data": {
      "text/plain": [
       "DecisionTreeRegressor()"
      ]
     },
     "execution_count": 13,
     "metadata": {},
     "output_type": "execute_result"
    }
   ],
   "source": [
    "regressor.fit(X_train, y_train)\n"
   ]
  },
  {
   "cell_type": "code",
   "execution_count": 14,
   "id": "42385325",
   "metadata": {},
   "outputs": [
    {
     "data": {
      "text/plain": [
       "array([22. , 28. ,  8.1, 24.7, 15. , 21.4, 18.8, 17.8, 21.6, 18.9, 18.8,\n",
       "       19.5,  5.6, 21.1, 16.2, 22.8, 20.5, 10.5, 42.3, 14.6, 24.7, 24.6,\n",
       "       13.5, 20.6, 19.4, 14.6, 22. , 11.7, 19.5, 22.7, 20.3, 22.9, 36.5,\n",
       "       15.3, 16.6, 13.8, 31.1, 19. , 21.4, 24.1, 19.4, 36.1, 35.2, 26.4,\n",
       "       22. , 11. , 14.8, 24.7, 23.2, 24.5, 18.5, 34.9, 14.8, 29.4, 43.1,\n",
       "       20.6, 17.8, 37.3, 21.6, 23.1, 27.5, 24.8, 30.1, 18.2, 30.1, 16.6,\n",
       "        8.5, 22.9, 32. , 16.6, 22.6, 22. ,  8.4, 18.6, 20.7,  5.6, 19.8,\n",
       "       35.2, 10.4, 14.4, 22. , 16.3, 19.6, 10.5, 20.3, 25.1, 14.1, 23. ,\n",
       "       22.1, 16.6, 22.2,  7.2, 19.2, 19.3, 22.9, 18.4, 50. , 16.3, 11.8,\n",
       "       16.3, 17.5, 21.1, 14.6, 20.4, 23.5, 13.4, 20.4, 24.8, 17.5, 22.2,\n",
       "        8.4, 16.3, 22.3, 22.2, 31.5, 19.4, 50. , 17.4, 16.2, 23.7, 17.1,\n",
       "       24.7,  8.3, 18.5, 24.7, 22.9, 23.3, 37.2, 18.3, 50. , 15.4, 25. ,\n",
       "       18.2, 21.7, 14.4, 21.7, 19.8, 24.8, 24.5, 18.1, 21.4, 23.7, 19.3,\n",
       "       16.6,  5.6, 20.1, 13.8, 14.6, 13.6, 44.8, 14.1, 17.8, 22.1, 18.5,\n",
       "       16.2, 22.9, 14.6, 22.9, 36.2,  8.3, 21.4, 26.4, 20.4, 22.9, 17.1,\n",
       "       22.8, 37.6])"
      ]
     },
     "execution_count": 14,
     "metadata": {},
     "output_type": "execute_result"
    }
   ],
   "source": [
    "y_pred = regressor.predict(X_test)\n",
    "y_pred"
   ]
  },
  {
   "cell_type": "code",
   "execution_count": 15,
   "id": "bace7f90",
   "metadata": {},
   "outputs": [],
   "source": [
    "from sklearn.metrics import r2_score\n",
    "score = r2_score(y_pred, y_test)"
   ]
  },
  {
   "cell_type": "code",
   "execution_count": 16,
   "id": "184dae79",
   "metadata": {},
   "outputs": [
    {
     "name": "stdout",
     "output_type": "stream",
     "text": [
      "R2 score is 0.7044397905160906\n"
     ]
    }
   ],
   "source": [
    "print(\"R2 score is {}\".format(score))"
   ]
  },
  {
   "cell_type": "code",
   "execution_count": 27,
   "id": "c4a58fd0",
   "metadata": {},
   "outputs": [],
   "source": [
    "### Hyper parameter tunings\n",
    "\n",
    "parameter = {\n",
    "    'criterion':['squared_error','friedman_mse','absolute_error','poisson'],\n",
    "    'splitter':['best','random'],\n",
    "    'max_depth':[1,2,3,4,5,6,7,8,9,10,11,12],\n",
    "    'max_features':['auto','sqrt','log2']\n",
    "}\n",
    "regressor = DecisionTreeRegressor()"
   ]
  },
  {
   "cell_type": "code",
   "execution_count": 28,
   "id": "1ed3becb",
   "metadata": {},
   "outputs": [],
   "source": [
    "from sklearn.model_selection import GridSearchCV\n",
    "regressorCV = GridSearchCV(regressor, param_grid=parameter, cv=5, scoring='neg_mean_squared_error')"
   ]
  },
  {
   "cell_type": "code",
   "execution_count": 29,
   "id": "d3d1655d",
   "metadata": {},
   "outputs": [
    {
     "data": {
      "text/plain": [
       "GridSearchCV(cv=5, estimator=DecisionTreeRegressor(),\n",
       "             param_grid={'criterion': ['squared_error', 'friedman_mse',\n",
       "                                       'absolute_error', 'poisson'],\n",
       "                         'max_depth': [1, 2, 3, 4, 5, 6, 7, 8, 9, 10, 11, 12],\n",
       "                         'max_features': ['auto', 'sqrt', 'log2'],\n",
       "                         'splitter': ['best', 'random']},\n",
       "             scoring='neg_mean_squared_error')"
      ]
     },
     "execution_count": 29,
     "metadata": {},
     "output_type": "execute_result"
    }
   ],
   "source": [
    "regressorCV.fit(X_train, y_train)"
   ]
  },
  {
   "cell_type": "code",
   "execution_count": 31,
   "id": "d68330c1",
   "metadata": {},
   "outputs": [
    {
     "data": {
      "text/plain": [
       "{'criterion': 'absolute_error',\n",
       " 'max_depth': 11,\n",
       " 'max_features': 'auto',\n",
       " 'splitter': 'random'}"
      ]
     },
     "execution_count": 31,
     "metadata": {},
     "output_type": "execute_result"
    }
   ],
   "source": [
    "regressorCV.best_params_"
   ]
  },
  {
   "cell_type": "code",
   "execution_count": 32,
   "id": "38a4f2f5",
   "metadata": {},
   "outputs": [],
   "source": [
    "y_pred = regressorCV.predict(X_test)"
   ]
  },
  {
   "cell_type": "code",
   "execution_count": 33,
   "id": "490a4843",
   "metadata": {},
   "outputs": [
    {
     "data": {
      "text/plain": [
       "0.6438548756062106"
      ]
     },
     "execution_count": 33,
     "metadata": {},
     "output_type": "execute_result"
    }
   ],
   "source": [
    "r2_score(y_pred, y_test)"
   ]
  }
 ],
 "metadata": {
  "kernelspec": {
   "display_name": "Python 3 (ipykernel)",
   "language": "python",
   "name": "python3"
  },
  "language_info": {
   "codemirror_mode": {
    "name": "ipython",
    "version": 3
   },
   "file_extension": ".py",
   "mimetype": "text/x-python",
   "name": "python",
   "nbconvert_exporter": "python",
   "pygments_lexer": "ipython3",
   "version": "3.10.6"
  }
 },
 "nbformat": 4,
 "nbformat_minor": 5
}
