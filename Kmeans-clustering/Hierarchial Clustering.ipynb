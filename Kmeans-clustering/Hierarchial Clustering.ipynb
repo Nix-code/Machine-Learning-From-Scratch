{
 "cells": [
  {
   "cell_type": "markdown",
   "id": "f6bb7099",
   "metadata": {},
   "source": [
    "### Hierarchial clustering\n",
    "- Make each point a single cluster\n",
    "- Take two closest points and merge them in one cluster.\n",
    "- Repeat step 2 till only one cluster left."
   ]
  },
  {
   "cell_type": "markdown",
   "id": "345d245b",
   "metadata": {},
   "source": [
    "choose closest point \n",
    "\n",
    "- Take the distance of two closest point in clusters\n",
    "- Average distance\n",
    "- Centroid distance\n",
    "- Farthest points etc.\n",
    "\n",
    "It is computionally costlier O(N^2Log(N)) . Not recommended for large datasets"
   ]
  },
  {
   "cell_type": "code",
   "execution_count": 1,
   "id": "dc8bab41",
   "metadata": {},
   "outputs": [],
   "source": [
    "import numpy as np\n",
    "import pandas as pd\n",
    "import matplotlib.pyplot as plt\n"
   ]
  },
  {
   "cell_type": "code",
   "execution_count": 2,
   "id": "2942aa6b",
   "metadata": {},
   "outputs": [
    {
     "data": {
      "text/html": [
       "<div>\n",
       "<style scoped>\n",
       "    .dataframe tbody tr th:only-of-type {\n",
       "        vertical-align: middle;\n",
       "    }\n",
       "\n",
       "    .dataframe tbody tr th {\n",
       "        vertical-align: top;\n",
       "    }\n",
       "\n",
       "    .dataframe thead th {\n",
       "        text-align: right;\n",
       "    }\n",
       "</style>\n",
       "<table border=\"1\" class=\"dataframe\">\n",
       "  <thead>\n",
       "    <tr style=\"text-align: right;\">\n",
       "      <th></th>\n",
       "      <th>CustomerID</th>\n",
       "      <th>Genre</th>\n",
       "      <th>Age</th>\n",
       "      <th>Annual Income (k$)</th>\n",
       "      <th>Spending Score (1-100)</th>\n",
       "    </tr>\n",
       "  </thead>\n",
       "  <tbody>\n",
       "    <tr>\n",
       "      <th>0</th>\n",
       "      <td>1</td>\n",
       "      <td>Male</td>\n",
       "      <td>19</td>\n",
       "      <td>15</td>\n",
       "      <td>39</td>\n",
       "    </tr>\n",
       "    <tr>\n",
       "      <th>1</th>\n",
       "      <td>2</td>\n",
       "      <td>Male</td>\n",
       "      <td>21</td>\n",
       "      <td>15</td>\n",
       "      <td>81</td>\n",
       "    </tr>\n",
       "    <tr>\n",
       "      <th>2</th>\n",
       "      <td>3</td>\n",
       "      <td>Female</td>\n",
       "      <td>20</td>\n",
       "      <td>16</td>\n",
       "      <td>6</td>\n",
       "    </tr>\n",
       "    <tr>\n",
       "      <th>3</th>\n",
       "      <td>4</td>\n",
       "      <td>Female</td>\n",
       "      <td>23</td>\n",
       "      <td>16</td>\n",
       "      <td>77</td>\n",
       "    </tr>\n",
       "    <tr>\n",
       "      <th>4</th>\n",
       "      <td>5</td>\n",
       "      <td>Female</td>\n",
       "      <td>31</td>\n",
       "      <td>17</td>\n",
       "      <td>40</td>\n",
       "    </tr>\n",
       "  </tbody>\n",
       "</table>\n",
       "</div>"
      ],
      "text/plain": [
       "   CustomerID   Genre  Age  Annual Income (k$)  Spending Score (1-100)\n",
       "0           1    Male   19                  15                      39\n",
       "1           2    Male   21                  15                      81\n",
       "2           3  Female   20                  16                       6\n",
       "3           4  Female   23                  16                      77\n",
       "4           5  Female   31                  17                      40"
      ]
     },
     "execution_count": 2,
     "metadata": {},
     "output_type": "execute_result"
    }
   ],
   "source": [
    "df = pd.read_csv(\"customer.csv\")\n",
    "df.head()"
   ]
  },
  {
   "cell_type": "code",
   "execution_count": 3,
   "id": "05cbbaf5",
   "metadata": {},
   "outputs": [],
   "source": [
    "X = df.iloc[:,3:].values\n"
   ]
  },
  {
   "cell_type": "code",
   "execution_count": 4,
   "id": "a0956944",
   "metadata": {},
   "outputs": [
    {
     "data": {
      "image/png": "[encoded data removed]",
      "text/plain": [
       "<Figure size 432x288 with 1 Axes>"
      ]
     },
     "metadata": {
      "needs_background": "light"
     },
     "output_type": "display_data"
    }
   ],
   "source": [
    "### Using Dendrogram\n",
    "import scipy.cluster.hierarchy as sch\n",
    "# dendrogram\n",
    "dend = sch.dendrogram(sch.linkage(X, method = 'ward'))\n",
    "# ward method is used to minimise the variance in each cluster\n",
    "plt.title(\"Dendrogram\")\n",
    "plt.xlabel(\"Customer\")\n",
    "plt.ylabel(\"Euclidean Distance\")\n",
    "plt.show()"
   ]
  },
  {
   "cell_type": "code",
   "execution_count": 5,
   "id": "d7225106",
   "metadata": {},
   "outputs": [
    {
     "name": "stdout",
     "output_type": "stream",
     "text": [
      "[4 3 4 3 4 3 4 3 4 3 4 3 4 3 4 3 4 3 4 3 4 3 4 3 4 3 4 3 4 3 4 3 4 3 4 3 4\n",
      " 3 4 3 4 3 4 1 4 1 1 1 1 1 1 1 1 1 1 1 1 1 1 1 1 1 1 1 1 1 1 1 1 1 1 1 1 1\n",
      " 1 1 1 1 1 1 1 1 1 1 1 1 1 1 1 1 1 1 1 1 1 1 1 1 1 1 1 1 1 1 1 1 1 1 1 1 1\n",
      " 1 1 1 1 1 1 1 1 1 1 1 1 2 1 2 1 2 0 2 0 2 1 2 0 2 0 2 0 2 0 2 1 2 0 2 1 2\n",
      " 0 2 0 2 0 2 0 2 0 2 0 2 1 2 0 2 0 2 0 2 0 2 0 2 0 2 0 2 0 2 0 2 0 2 0 2 0\n",
      " 2 0 2 0 2 0 2 0 2 0 2 0 2 0 2]\n"
     ]
    }
   ],
   "source": [
    "# model fitting\n",
    "from sklearn.cluster import AgglomerativeClustering\n",
    "hc = AgglomerativeClustering(n_clusters = 5, affinity = 'euclidean', linkage = 'ward')\n",
    "ypred = hc.fit_predict(X)\n",
    "print(ypred)"
   ]
  },
  {
   "cell_type": "code",
   "execution_count": 8,
   "id": "6c5eb3b2",
   "metadata": {},
   "outputs": [
    {
     "data": {
      "text/plain": [
       "Text(0, 0.5, 'Annual Income')"
      ]
     },
     "execution_count": 8,
     "metadata": {},
     "output_type": "execute_result"
    },
    {
     "data": {
      "image/png": "[encoded data removed]",
      "text/plain": [
       "<Figure size 432x288 with 1 Axes>"
      ]
     },
     "metadata": {
      "needs_background": "light"
     },
     "output_type": "display_data"
    }
   ],
   "source": [
    "plt.scatter(X[ypred==0,0],X[ypred == 0,1],color = 'red',s=60,label='cluster 1',edgecolors = 'black')\n",
    "plt.scatter(X[ypred==1,0],X[ypred == 1,1],color = 'green',s=60,label='cluster 1',edgecolors = 'black')\n",
    "plt.scatter(X[ypred==2,0],X[ypred == 2,1],color = 'blue',s=60,label='cluster 1',edgecolors = 'black')\n",
    "plt.scatter(X[ypred==3,0],X[ypred == 3,1],color = 'yellow',s=60,label='cluster 1',edgecolors = 'black')\n",
    "plt.scatter(X[ypred==4,0],X[ypred == 4,1],color = 'cyan',s=60,label='cluster 1',edgecolors = 'black')\n",
    "plt.legend()\n",
    "plt.title(\"Hierarchial Clustering\")\n",
    "plt.xlabel(\"Spending score\")\n",
    "plt.ylabel(\"Annual Income\")"
   ]
  },
  {
   "cell_type": "code",
   "execution_count": null,
   "id": "807b09b7",
   "metadata": {},
   "outputs": [],
   "source": []
  },
  {
   "cell_type": "code",
   "execution_count": null,
   "id": "dabba337",
   "metadata": {},
   "outputs": [],
   "source": []
  }
 ],
 "metadata": {
  "kernelspec": {
   "display_name": "Python 3 (ipykernel)",
   "language": "python",
   "name": "python3"
  },
  "language_info": {
   "codemirror_mode": {
    "name": "ipython",
    "version": 3
   },
   "file_extension": ".py",
   "mimetype": "text/x-python",
   "name": "python",
   "nbconvert_exporter": "python",
   "pygments_lexer": "ipython3",
   "version": "3.8.10"
  }
 },
 "nbformat": 4,
 "nbformat_minor": 5
}
