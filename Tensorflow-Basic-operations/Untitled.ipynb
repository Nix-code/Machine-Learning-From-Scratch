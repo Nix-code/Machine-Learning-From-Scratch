{
 "cells": [
  {
   "cell_type": "markdown",
   "id": "383e0dff",
   "metadata": {},
   "source": [
    "### Tensorflow Basics"
   ]
  },
  {
   "cell_type": "markdown",
   "id": "c70510a0",
   "metadata": {},
   "source": [
    "Tensorflow is an end-to-end open source machine learning platfoem with focus on deep neural networks"
   ]
  },
  {
   "cell_type": "markdown",
   "id": "3be05698",
   "metadata": {},
   "source": [
    "#### Some of it fundamentals"
   ]
  },
  {
   "cell_type": "markdown",
   "id": "a696f61a",
   "metadata": {},
   "source": [
    "### Tensors"
   ]
  },
  {
   "cell_type": "markdown",
   "id": "6aa0cdcc",
   "metadata": {},
   "source": [
    "A tensor is an array that represents the types of data in the TensorFlow Python deep-learning library. he values in a tensor contain identical data types with a specified shape."
   ]
  },
  {
   "cell_type": "markdown",
   "id": "c484d59c",
   "metadata": {},
   "source": [
    "### Shape\n",
    "the shape corresponds to the dimensionality of the tensor\n",
    ", the number of elements in each dimension defines a tensor’s shape. During the graph creation process, TensorFlow automatically infers shapes. The rank of these inferred shapes could be known or unknown. If the rank is known, the dimensions’ sizes may be known or unknown."
   ]
  },
  {
   "cell_type": "markdown",
   "id": "616a5fdf",
   "metadata": {},
   "source": [
    "### Graph\n",
    "Graphs are data structures that contain a collection of tf.Operation objects, which describe computation units, and tf.Tensor objects, which represent data units that flow between operations"
   ]
  },
  {
   "cell_type": "markdown",
   "id": "850ec7e5",
   "metadata": {},
   "source": [
    "### Session\n",
    "Session in TensorFlow carries out the operations in the graph. It is used to evaluate the nodes in a graph"
   ]
  },
  {
   "cell_type": "code",
   "execution_count": 2,
   "id": "a37be0a4",
   "metadata": {},
   "outputs": [],
   "source": [
    "# # defining the grapg\n",
    "# A graph containing a variable and three operations are defined:\n",
    "#variable returns the variable’s current value. initialize gives the variable the value 42 at the start.\n",
    "#assign gives the variable a new value of 13."
   ]
  },
  {
   "cell_type": "code",
   "execution_count": 14,
   "id": "ddcae5a3",
   "metadata": {},
   "outputs": [],
   "source": [
    "\n",
    "import tensorflow.compat.v1 as tf\n",
    "tf.disable_v2_behavior()\n",
    "graph = tf.Graph()\n",
    "\n",
    "with graph.as_default():\n",
    "    variable = tf.Variable(42, name='hello')\n",
    "    initialize = tf.global_variables_initializer()\n",
    "     #     initialize gives the variable the value 42 at the start\n",
    "    assign = variable.assign(13)\n",
    "    \n",
    "#ensorFlow generates a default graph for you, thus the first two lines of code above are optional"
   ]
  },
  {
   "cell_type": "code",
   "execution_count": null,
   "id": "62faf4fd",
   "metadata": {},
   "outputs": [],
   "source": []
  },
  {
   "cell_type": "code",
   "execution_count": 20,
   "id": "b45cae5f",
   "metadata": {},
   "outputs": [
    {
     "name": "stdout",
     "output_type": "stream",
     "text": [
      "13\n"
     ]
    }
   ],
   "source": [
    "## using a session to run computations\n",
    "\n",
    "with tf.Session(graph=graph) as sess:\n",
    "    sess.run(initialize)\n",
    "    sess.run(assign)\n",
    "    print(sess.run(variable))"
   ]
  },
  {
   "cell_type": "code",
   "execution_count": null,
   "id": "228646cd",
   "metadata": {},
   "outputs": [],
   "source": [
    "# variable value is only valid for one session.\n",
    "\n",
    "with tf.Session(graph=graph) as sess:\n",
    "    print(sess.run(variable))\n",
    "# causes error"
   ]
  },
  {
   "cell_type": "code",
   "execution_count": 18,
   "id": "4ed7b42a",
   "metadata": {},
   "outputs": [
    {
     "name": "stdout",
     "output_type": "stream",
     "text": [
      "42\n"
     ]
    }
   ],
   "source": [
    "with tf.Session(graph = graph) as sess:\n",
    "    sess.run(initialize)\n",
    "    print(sess.run(variable))"
   ]
  },
  {
   "cell_type": "code",
   "execution_count": null,
   "id": "1873bb02",
   "metadata": {},
   "outputs": [],
   "source": [
    "# The following is a list of frequently used operations:\n",
    "\n",
    "# tf.add(a, b)\n",
    "# tf.substract(a, b)\n",
    "# tf.multiply(a, b)\n",
    "# tf.div(a, b)\n",
    "# tf.pow(a, b)\n",
    "# tf.exp(a)\n",
    "# tf.sqrt(a)"
   ]
  },
  {
   "cell_type": "code",
   "execution_count": 22,
   "id": "85585a8a",
   "metadata": {},
   "outputs": [
    {
     "name": "stdout",
     "output_type": "stream",
     "text": [
      "Tensor(\"Sqrt_1:0\", shape=(1,), dtype=float32)\n"
     ]
    }
   ],
   "source": [
    "# calculate the power\n",
    "\n",
    "x = tf.constant([2.0], dtype=tf.float32)\n",
    "print(tf.sqrt(x))"
   ]
  },
  {
   "cell_type": "code",
   "execution_count": null,
   "id": "965eb0f9",
   "metadata": {},
   "outputs": [],
   "source": []
  }
 ],
 "metadata": {
  "kernelspec": {
   "display_name": "Python 3 (ipykernel)",
   "language": "python",
   "name": "python3"
  },
  "language_info": {
   "codemirror_mode": {
    "name": "ipython",
    "version": 3
   },
   "file_extension": ".py",
   "mimetype": "text/x-python",
   "name": "python",
   "nbconvert_exporter": "python",
   "pygments_lexer": "ipython3",
   "version": "3.8.10"
  }
 },
 "nbformat": 4,
 "nbformat_minor": 5
}
